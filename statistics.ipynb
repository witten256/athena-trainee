{
 "cells": [
  {
   "cell_type": "code",
   "execution_count": 9,
   "metadata": {},
   "outputs": [],
   "source": [
    "import re\n",
    "\n",
    "import pandas as pd\n",
    "from matplotlib import mlab\n",
    "from matplotlib import pyplot as plt"
   ]
  },
  {
   "cell_type": "code",
   "execution_count": null,
   "metadata": {},
   "outputs": [
    {
     "name": "stdout",
     "output_type": "stream",
     "text": [
      "Date      0\n",
      "Close     0\n",
      "Open      0\n",
      "High      0\n",
      "Low       0\n",
      "Volume    0\n",
      "Change    0\n",
      "dtype: int64\n",
      "['M', 'B']\n"
     ]
    }
   ],
   "source": [
    "# データの確認と適切な処理を行う\n",
    "\n",
    "# データの読み込み\n",
    "path = \"../stock_price.csv\"\n",
    "df = pd.read_csv(path, parse_dates=[\"日付け\"])\n",
    "\n",
    "# ラベルの日本語化\n",
    "df = df.rename(\n",
    "    columns={\n",
    "        \"日付け\": \"Date\",\n",
    "        \"終値\": \"Close\",\n",
    "        \"始値\": \"Open\",\n",
    "        \"高値\": \"High\",\n",
    "        \"安値\": \"Low\",\n",
    "        \"出来高\": \"Volume\",\n",
    "        \"変化率 %\": \"Change\",\n",
    "    }\n",
    ")\n",
    "\n",
    "# 欠損値確認\n",
    "print(df.isnull().sum())\n",
    "\n",
    "\n",
    "# 出来高は省略表現なので処理。まず、省略記号の一覧を取得。\n",
    "symbols = set()\n",
    "for value in df[\"Volume\"]:\n",
    "    # 正規表現を利用してre.subで置換\n",
    "    symbol = re.sub(r\"\\d*\\.?\\d*\", \"\", str(value))\n",
    "    # pythonの構文で、if (str)で空文かどうか判断できる\n",
    "    if symbol:  # 空文字列でない場合\n",
    "        symbols.add(symbol)\n",
    "        # symbols = {\"B\", \"M\"}\n",
    "\n",
    "print(list(symbols))\n",
    "\n",
    "\n",
    "# 省略表現を数値に変換するカスタムメソッド\n",
    "def convert_volume(value):\n",
    "    number = float(re.sub(r\"[BM]\", \"\", str(value)))\n",
    "    if \"B\" in str(value):\n",
    "        return number * 1000000000\n",
    "    elif \"M\" in str(value):\n",
    "        return number * 1000000\n",
    "    else:\n",
    "        return number\n",
    "\n",
    "\n",
    "features = df.copy()\n",
    "# 重要: データの順番を逆転\n",
    "features = features.iloc[::-1].reset_index(drop=True)\n",
    "features[\"Volume\"] = features[\"Volume\"].apply(convert_volume)\n",
    "features[\"Change\"] = features[\"Change\"].str.replace(\"%\", \"\").astype(float)"
   ]
  },
  {
   "cell_type": "code",
   "execution_count": 11,
   "metadata": {},
   "outputs": [
    {
     "data": {
      "text/html": [
       "<div>\n",
       "<style scoped>\n",
       "    .dataframe tbody tr th:only-of-type {\n",
       "        vertical-align: middle;\n",
       "    }\n",
       "\n",
       "    .dataframe tbody tr th {\n",
       "        vertical-align: top;\n",
       "    }\n",
       "\n",
       "    .dataframe thead th {\n",
       "        text-align: right;\n",
       "    }\n",
       "</style>\n",
       "<table border=\"1\" class=\"dataframe\">\n",
       "  <thead>\n",
       "    <tr style=\"text-align: right;\">\n",
       "      <th></th>\n",
       "      <th>Date</th>\n",
       "      <th>Close</th>\n",
       "      <th>Open</th>\n",
       "      <th>High</th>\n",
       "      <th>Low</th>\n",
       "      <th>Volume</th>\n",
       "      <th>Change</th>\n",
       "    </tr>\n",
       "  </thead>\n",
       "  <tbody>\n",
       "    <tr>\n",
       "      <th>0</th>\n",
       "      <td>1987-02-12</td>\n",
       "      <td>182.4</td>\n",
       "      <td>182.4</td>\n",
       "      <td>182.4</td>\n",
       "      <td>182.4</td>\n",
       "      <td>1.280000e+09</td>\n",
       "      <td>16.25</td>\n",
       "    </tr>\n",
       "    <tr>\n",
       "      <th>1</th>\n",
       "      <td>1987-02-13</td>\n",
       "      <td>172.5</td>\n",
       "      <td>176.5</td>\n",
       "      <td>176.5</td>\n",
       "      <td>172.5</td>\n",
       "      <td>4.223800e+08</td>\n",
       "      <td>-5.43</td>\n",
       "    </tr>\n",
       "    <tr>\n",
       "      <th>2</th>\n",
       "      <td>1987-02-16</td>\n",
       "      <td>175.5</td>\n",
       "      <td>166.7</td>\n",
       "      <td>175.5</td>\n",
       "      <td>165.7</td>\n",
       "      <td>3.605100e+08</td>\n",
       "      <td>1.74</td>\n",
       "    </tr>\n",
       "    <tr>\n",
       "      <th>3</th>\n",
       "      <td>1987-02-17</td>\n",
       "      <td>182.4</td>\n",
       "      <td>176.5</td>\n",
       "      <td>184.3</td>\n",
       "      <td>175.5</td>\n",
       "      <td>8.815100e+08</td>\n",
       "      <td>3.93</td>\n",
       "    </tr>\n",
       "    <tr>\n",
       "      <th>4</th>\n",
       "      <td>1987-02-18</td>\n",
       "      <td>191.2</td>\n",
       "      <td>186.3</td>\n",
       "      <td>191.2</td>\n",
       "      <td>186.3</td>\n",
       "      <td>7.950900e+08</td>\n",
       "      <td>4.82</td>\n",
       "    </tr>\n",
       "    <tr>\n",
       "      <th>...</th>\n",
       "      <td>...</td>\n",
       "      <td>...</td>\n",
       "      <td>...</td>\n",
       "      <td>...</td>\n",
       "      <td>...</td>\n",
       "      <td>...</td>\n",
       "      <td>...</td>\n",
       "    </tr>\n",
       "    <tr>\n",
       "      <th>9197</th>\n",
       "      <td>2024-07-26</td>\n",
       "      <td>157.9</td>\n",
       "      <td>159.3</td>\n",
       "      <td>159.6</td>\n",
       "      <td>157.9</td>\n",
       "      <td>1.550800e+08</td>\n",
       "      <td>-0.13</td>\n",
       "    </tr>\n",
       "    <tr>\n",
       "      <th>9198</th>\n",
       "      <td>2024-07-29</td>\n",
       "      <td>159.7</td>\n",
       "      <td>158.7</td>\n",
       "      <td>160.2</td>\n",
       "      <td>158.4</td>\n",
       "      <td>1.262800e+08</td>\n",
       "      <td>1.14</td>\n",
       "    </tr>\n",
       "    <tr>\n",
       "      <th>9199</th>\n",
       "      <td>2024-07-30</td>\n",
       "      <td>158.7</td>\n",
       "      <td>158.8</td>\n",
       "      <td>159.2</td>\n",
       "      <td>158.0</td>\n",
       "      <td>1.381400e+08</td>\n",
       "      <td>-0.63</td>\n",
       "    </tr>\n",
       "    <tr>\n",
       "      <th>9200</th>\n",
       "      <td>2024-07-31</td>\n",
       "      <td>160.4</td>\n",
       "      <td>158.2</td>\n",
       "      <td>160.7</td>\n",
       "      <td>158.1</td>\n",
       "      <td>1.739100e+08</td>\n",
       "      <td>1.07</td>\n",
       "    </tr>\n",
       "    <tr>\n",
       "      <th>9201</th>\n",
       "      <td>2024-08-01</td>\n",
       "      <td>156.3</td>\n",
       "      <td>159.3</td>\n",
       "      <td>159.4</td>\n",
       "      <td>156.1</td>\n",
       "      <td>7.915000e+07</td>\n",
       "      <td>-2.56</td>\n",
       "    </tr>\n",
       "  </tbody>\n",
       "</table>\n",
       "<p>9202 rows × 7 columns</p>\n",
       "</div>"
      ],
      "text/plain": [
       "           Date  Close   Open   High    Low        Volume  Change\n",
       "0    1987-02-12  182.4  182.4  182.4  182.4  1.280000e+09   16.25\n",
       "1    1987-02-13  172.5  176.5  176.5  172.5  4.223800e+08   -5.43\n",
       "2    1987-02-16  175.5  166.7  175.5  165.7  3.605100e+08    1.74\n",
       "3    1987-02-17  182.4  176.5  184.3  175.5  8.815100e+08    3.93\n",
       "4    1987-02-18  191.2  186.3  191.2  186.3  7.950900e+08    4.82\n",
       "...         ...    ...    ...    ...    ...           ...     ...\n",
       "9197 2024-07-26  157.9  159.3  159.6  157.9  1.550800e+08   -0.13\n",
       "9198 2024-07-29  159.7  158.7  160.2  158.4  1.262800e+08    1.14\n",
       "9199 2024-07-30  158.7  158.8  159.2  158.0  1.381400e+08   -0.63\n",
       "9200 2024-07-31  160.4  158.2  160.7  158.1  1.739100e+08    1.07\n",
       "9201 2024-08-01  156.3  159.3  159.4  156.1  7.915000e+07   -2.56\n",
       "\n",
       "[9202 rows x 7 columns]"
      ]
     },
     "execution_count": 11,
     "metadata": {},
     "output_type": "execute_result"
    }
   ],
   "source": [
    "features"
   ]
  },
  {
   "cell_type": "code",
   "execution_count": 12,
   "metadata": {},
   "outputs": [
    {
     "data": {
      "text/plain": [
       "pandas._libs.tslibs.timestamps.Timestamp"
      ]
     },
     "execution_count": 12,
     "metadata": {},
     "output_type": "execute_result"
    }
   ],
   "source": [
    "type(features[\"Date\"][0])"
   ]
  },
  {
   "cell_type": "code",
   "execution_count": 13,
   "metadata": {},
   "outputs": [
    {
     "data": {
      "text/plain": [
       "[<matplotlib.lines.Line2D at 0x7f5f45e6b6e0>]"
      ]
     },
     "execution_count": 13,
     "metadata": {},
     "output_type": "execute_result"
    },
    {
     "data": {
      "image/png": "[encoded data removed]",
      "text/plain": [
       "<Figure size 640x480 with 1 Axes>"
      ]
     },
     "metadata": {},
     "output_type": "display_data"
    }
   ],
   "source": [
    "plt.plot(features[\"Date\"], features[\"Close\"])"
   ]
  },
  {
   "cell_type": "code",
   "execution_count": 14,
   "metadata": {},
   "outputs": [
    {
     "data": {
      "image/png": "[encoded data removed]",
      "text/plain": [
       "<Figure size 640x480 with 1 Axes>"
      ]
     },
     "metadata": {},
     "output_type": "display_data"
    }
   ],
   "source": [
    "acor = plt.acorr(features[\"Close\"], detrend=mlab.detrend_linear, maxlags=50)"
   ]
  },
  {
   "cell_type": "code",
   "execution_count": 15,
   "metadata": {},
   "outputs": [
    {
     "data": {
      "image/png": "[encoded data removed]",
      "text/plain": [
       "<Figure size 640x480 with 1 Axes>"
      ]
     },
     "metadata": {},
     "output_type": "display_data"
    }
   ],
   "source": [
    "acor = plt.acorr(features[\"Volume\"], detrend=mlab.detrend_linear, maxlags=50)"
   ]
  },
  {
   "cell_type": "code",
   "execution_count": 16,
   "metadata": {},
   "outputs": [
    {
     "data": {
      "image/png": "[encoded data removed]",
      "text/plain": [
       "<Figure size 640x480 with 1 Axes>"
      ]
     },
     "metadata": {},
     "output_type": "display_data"
    }
   ],
   "source": [
    "acor = plt.acorr(features[\"Change\"], detrend=mlab.detrend_linear, maxlags=50)"
   ]
  }
 ],
 "metadata": {
  "kernelspec": {
   "display_name": ".venv",
   "language": "python",
   "name": "python3"
  },
  "language_info": {
   "codemirror_mode": {
    "name": "ipython",
    "version": 3
   },
   "file_extension": ".py",
   "mimetype": "text/x-python",
   "name": "python",
   "nbconvert_exporter": "python",
   "pygments_lexer": "ipython3",
   "version": "3.12.3"
  }
 },
 "nbformat": 4,
 "nbformat_minor": 2
}
